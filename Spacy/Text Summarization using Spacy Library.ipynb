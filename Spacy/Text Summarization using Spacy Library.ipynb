{
 "cells": [
  {
   "cell_type": "code",
   "execution_count": 1,
   "id": "bd78aee6-abeb-4621-bf59-0293114e4ea6",
   "metadata": {
    "scrolled": true
   },
   "outputs": [
    {
     "name": "stdout",
     "output_type": "stream",
     "text": [
      "Requirement already satisfied: spacy in c:\\users\\sai viswa\\anaconda3\\lib\\site-packages (3.7.4)\n",
      "Requirement already satisfied: spacy-legacy<3.1.0,>=3.0.11 in c:\\users\\sai viswa\\anaconda3\\lib\\site-packages (from spacy) (3.0.12)\n",
      "Requirement already satisfied: spacy-loggers<2.0.0,>=1.0.0 in c:\\users\\sai viswa\\anaconda3\\lib\\site-packages (from spacy) (1.0.5)\n",
      "Requirement already satisfied: murmurhash<1.1.0,>=0.28.0 in c:\\users\\sai viswa\\anaconda3\\lib\\site-packages (from spacy) (1.0.10)\n",
      "Requirement already satisfied: cymem<2.1.0,>=2.0.2 in c:\\users\\sai viswa\\anaconda3\\lib\\site-packages (from spacy) (2.0.8)\n",
      "Requirement already satisfied: preshed<3.1.0,>=3.0.2 in c:\\users\\sai viswa\\anaconda3\\lib\\site-packages (from spacy) (3.0.9)\n",
      "Requirement already satisfied: thinc<8.3.0,>=8.2.2 in c:\\users\\sai viswa\\anaconda3\\lib\\site-packages (from spacy) (8.2.3)\n",
      "Requirement already satisfied: wasabi<1.2.0,>=0.9.1 in c:\\users\\sai viswa\\anaconda3\\lib\\site-packages (from spacy) (1.1.2)\n",
      "Requirement already satisfied: srsly<3.0.0,>=2.4.3 in c:\\users\\sai viswa\\anaconda3\\lib\\site-packages (from spacy) (2.4.8)\n",
      "Requirement already satisfied: catalogue<2.1.0,>=2.0.6 in c:\\users\\sai viswa\\anaconda3\\lib\\site-packages (from spacy) (2.0.10)\n",
      "Requirement already satisfied: weasel<0.4.0,>=0.1.0 in c:\\users\\sai viswa\\anaconda3\\lib\\site-packages (from spacy) (0.3.4)\n",
      "Requirement already satisfied: typer<0.10.0,>=0.3.0 in c:\\users\\sai viswa\\anaconda3\\lib\\site-packages (from spacy) (0.9.4)\n",
      "Requirement already satisfied: smart-open<7.0.0,>=5.2.1 in c:\\users\\sai viswa\\anaconda3\\lib\\site-packages (from spacy) (5.2.1)\n",
      "Requirement already satisfied: tqdm<5.0.0,>=4.38.0 in c:\\users\\sai viswa\\anaconda3\\lib\\site-packages (from spacy) (4.65.0)\n",
      "Requirement already satisfied: requests<3.0.0,>=2.13.0 in c:\\users\\sai viswa\\anaconda3\\lib\\site-packages (from spacy) (2.31.0)\n",
      "Requirement already satisfied: pydantic!=1.8,!=1.8.1,<3.0.0,>=1.7.4 in c:\\users\\sai viswa\\anaconda3\\lib\\site-packages (from spacy) (1.10.12)\n",
      "Requirement already satisfied: jinja2 in c:\\users\\sai viswa\\anaconda3\\lib\\site-packages (from spacy) (3.1.3)\n",
      "Requirement already satisfied: setuptools in c:\\users\\sai viswa\\anaconda3\\lib\\site-packages (from spacy) (68.2.2)\n",
      "Requirement already satisfied: packaging>=20.0 in c:\\users\\sai viswa\\anaconda3\\lib\\site-packages (from spacy) (23.1)\n",
      "Requirement already satisfied: langcodes<4.0.0,>=3.2.0 in c:\\users\\sai viswa\\anaconda3\\lib\\site-packages (from spacy) (3.4.0)\n",
      "Requirement already satisfied: numpy>=1.19.0 in c:\\users\\sai viswa\\anaconda3\\lib\\site-packages (from spacy) (1.26.4)\n",
      "Requirement already satisfied: language-data>=1.2 in c:\\users\\sai viswa\\anaconda3\\lib\\site-packages (from langcodes<4.0.0,>=3.2.0->spacy) (1.2.0)\n",
      "Requirement already satisfied: typing-extensions>=4.2.0 in c:\\users\\sai viswa\\anaconda3\\lib\\site-packages (from pydantic!=1.8,!=1.8.1,<3.0.0,>=1.7.4->spacy) (4.9.0)\n",
      "Requirement already satisfied: charset-normalizer<4,>=2 in c:\\users\\sai viswa\\anaconda3\\lib\\site-packages (from requests<3.0.0,>=2.13.0->spacy) (2.0.4)\n",
      "Requirement already satisfied: idna<4,>=2.5 in c:\\users\\sai viswa\\anaconda3\\lib\\site-packages (from requests<3.0.0,>=2.13.0->spacy) (3.4)\n",
      "Requirement already satisfied: urllib3<3,>=1.21.1 in c:\\users\\sai viswa\\anaconda3\\lib\\site-packages (from requests<3.0.0,>=2.13.0->spacy) (2.0.7)\n",
      "Requirement already satisfied: certifi>=2017.4.17 in c:\\users\\sai viswa\\anaconda3\\lib\\site-packages (from requests<3.0.0,>=2.13.0->spacy) (2024.2.2)\n",
      "Requirement already satisfied: blis<0.8.0,>=0.7.8 in c:\\users\\sai viswa\\anaconda3\\lib\\site-packages (from thinc<8.3.0,>=8.2.2->spacy) (0.7.11)\n",
      "Requirement already satisfied: confection<1.0.0,>=0.0.1 in c:\\users\\sai viswa\\anaconda3\\lib\\site-packages (from thinc<8.3.0,>=8.2.2->spacy) (0.1.4)\n",
      "Requirement already satisfied: colorama in c:\\users\\sai viswa\\anaconda3\\lib\\site-packages (from tqdm<5.0.0,>=4.38.0->spacy) (0.4.6)\n",
      "Requirement already satisfied: click<9.0.0,>=7.1.1 in c:\\users\\sai viswa\\anaconda3\\lib\\site-packages (from typer<0.10.0,>=0.3.0->spacy) (8.1.7)\n",
      "Requirement already satisfied: cloudpathlib<0.17.0,>=0.7.0 in c:\\users\\sai viswa\\anaconda3\\lib\\site-packages (from weasel<0.4.0,>=0.1.0->spacy) (0.16.0)\n",
      "Requirement already satisfied: MarkupSafe>=2.0 in c:\\users\\sai viswa\\anaconda3\\lib\\site-packages (from jinja2->spacy) (2.1.3)\n",
      "Requirement already satisfied: marisa-trie>=0.7.7 in c:\\users\\sai viswa\\anaconda3\\lib\\site-packages (from language-data>=1.2->langcodes<4.0.0,>=3.2.0->spacy) (1.1.0)\n",
      "Note: you may need to restart the kernel to use updated packages.\n"
     ]
    }
   ],
   "source": [
    "pip install spacy"
   ]
  },
  {
   "cell_type": "code",
   "execution_count": 2,
   "id": "da205033-883c-42c6-a8cb-9f4974edd297",
   "metadata": {},
   "outputs": [
    {
     "name": "stdout",
     "output_type": "stream",
     "text": [
      "Collecting en-core-web-sm==3.7.1\n",
      "  Downloading https://github.com/explosion/spacy-models/releases/download/en_core_web_sm-3.7.1/en_core_web_sm-3.7.1-py3-none-any.whl (12.8 MB)\n",
      "     ---------------------------------------- 0.0/12.8 MB ? eta -:--:--\n",
      "     ---------------------------------------- 0.0/12.8 MB ? eta -:--:--\n",
      "     ---------------------------------------- 0.0/12.8 MB ? eta -:--:--\n",
      "     --------------------------------------- 0.0/12.8 MB 217.9 kB/s eta 0:00:59\n",
      "     --------------------------------------- 0.1/12.8 MB 328.2 kB/s eta 0:00:39\n",
      "      -------------------------------------- 0.2/12.8 MB 958.4 kB/s eta 0:00:14\n",
      "     -- ------------------------------------- 0.7/12.8 MB 2.5 MB/s eta 0:00:05\n",
      "     --- ------------------------------------ 1.0/12.8 MB 3.2 MB/s eta 0:00:04\n",
      "     --- ------------------------------------ 1.1/12.8 MB 3.3 MB/s eta 0:00:04\n",
      "     --- ------------------------------------ 1.2/12.8 MB 3.3 MB/s eta 0:00:04\n",
      "     --- ------------------------------------ 1.2/12.8 MB 3.3 MB/s eta 0:00:04\n",
      "     ---- ----------------------------------- 1.4/12.8 MB 2.8 MB/s eta 0:00:05\n",
      "     ---- ----------------------------------- 1.4/12.8 MB 2.8 MB/s eta 0:00:05\n",
      "     ----- ---------------------------------- 1.8/12.8 MB 3.1 MB/s eta 0:00:04\n",
      "     ------ --------------------------------- 2.0/12.8 MB 3.1 MB/s eta 0:00:04\n",
      "     ------ --------------------------------- 2.2/12.8 MB 3.2 MB/s eta 0:00:04\n",
      "     ------- -------------------------------- 2.4/12.8 MB 3.2 MB/s eta 0:00:04\n",
      "     ------- -------------------------------- 2.5/12.8 MB 3.3 MB/s eta 0:00:04\n",
      "     -------- ------------------------------- 2.7/12.8 MB 3.3 MB/s eta 0:00:04\n",
      "     -------- ------------------------------- 2.7/12.8 MB 3.3 MB/s eta 0:00:04\n",
      "     -------- ------------------------------- 2.7/12.8 MB 3.3 MB/s eta 0:00:04\n",
      "     --------- ------------------------------ 3.0/12.8 MB 3.1 MB/s eta 0:00:04\n",
      "     ---------- ----------------------------- 3.2/12.8 MB 3.1 MB/s eta 0:00:04\n",
      "     ---------- ----------------------------- 3.4/12.8 MB 3.2 MB/s eta 0:00:03\n",
      "     ----------- ---------------------------- 3.6/12.8 MB 3.3 MB/s eta 0:00:03\n",
      "     ----------- ---------------------------- 3.8/12.8 MB 3.3 MB/s eta 0:00:03\n",
      "     ------------ --------------------------- 4.0/12.8 MB 3.3 MB/s eta 0:00:03\n",
      "     ------------ --------------------------- 4.0/12.8 MB 3.3 MB/s eta 0:00:03\n",
      "     ------------ --------------------------- 4.0/12.8 MB 3.3 MB/s eta 0:00:03\n",
      "     ------------- -------------------------- 4.2/12.8 MB 3.1 MB/s eta 0:00:03\n",
      "     ------------- -------------------------- 4.5/12.8 MB 3.2 MB/s eta 0:00:03\n",
      "     -------------- ------------------------- 4.7/12.8 MB 3.2 MB/s eta 0:00:03\n",
      "     --------------- ------------------------ 4.9/12.8 MB 3.3 MB/s eta 0:00:03\n",
      "     --------------- ------------------------ 5.1/12.8 MB 3.3 MB/s eta 0:00:03\n",
      "     ---------------- ----------------------- 5.2/12.8 MB 3.3 MB/s eta 0:00:03\n",
      "     ---------------- ----------------------- 5.4/12.8 MB 3.3 MB/s eta 0:00:03\n",
      "     ----------------- ---------------------- 5.6/12.8 MB 3.3 MB/s eta 0:00:03\n",
      "     ------------------ --------------------- 5.8/12.8 MB 3.3 MB/s eta 0:00:03\n",
      "     ------------------ --------------------- 6.0/12.8 MB 3.4 MB/s eta 0:00:03\n",
      "     ------------------- -------------------- 6.2/12.8 MB 3.4 MB/s eta 0:00:02\n",
      "     ------------------- -------------------- 6.4/12.8 MB 3.4 MB/s eta 0:00:02\n",
      "     -------------------- ------------------- 6.6/12.8 MB 3.4 MB/s eta 0:00:02\n",
      "     --------------------- ------------------ 6.7/12.8 MB 3.4 MB/s eta 0:00:02\n",
      "     --------------------- ------------------ 6.9/12.8 MB 3.4 MB/s eta 0:00:02\n",
      "     ---------------------- ----------------- 7.1/12.8 MB 3.5 MB/s eta 0:00:02\n",
      "     ---------------------- ----------------- 7.3/12.8 MB 3.4 MB/s eta 0:00:02\n",
      "     ----------------------- ---------------- 7.5/12.8 MB 3.5 MB/s eta 0:00:02\n",
      "     ------------------------ --------------- 7.7/12.8 MB 3.5 MB/s eta 0:00:02\n",
      "     ------------------------ --------------- 7.9/12.8 MB 3.5 MB/s eta 0:00:02\n",
      "     ------------------------- -------------- 8.1/12.8 MB 3.5 MB/s eta 0:00:02\n",
      "     ------------------------- -------------- 8.3/12.8 MB 3.5 MB/s eta 0:00:02\n",
      "     -------------------------- ------------- 8.3/12.8 MB 3.5 MB/s eta 0:00:02\n",
      "     -------------------------- ------------- 8.3/12.8 MB 3.5 MB/s eta 0:00:02\n",
      "     -------------------------- ------------- 8.6/12.8 MB 3.5 MB/s eta 0:00:02\n",
      "     ---------------------------- ----------- 9.0/12.8 MB 3.5 MB/s eta 0:00:02\n",
      "     ---------------------------- ----------- 9.2/12.8 MB 3.6 MB/s eta 0:00:02\n",
      "     ----------------------------- ---------- 9.4/12.8 MB 3.6 MB/s eta 0:00:01\n",
      "     ----------------------------- ---------- 9.6/12.8 MB 3.6 MB/s eta 0:00:01\n",
      "     ------------------------------ --------- 9.8/12.8 MB 3.6 MB/s eta 0:00:01\n",
      "     ------------------------------- -------- 10.0/12.8 MB 3.6 MB/s eta 0:00:01\n",
      "     ------------------------------- -------- 10.2/12.8 MB 3.6 MB/s eta 0:00:01\n",
      "     -------------------------------- ------- 10.3/12.8 MB 3.8 MB/s eta 0:00:01\n",
      "     -------------------------------- ------- 10.5/12.8 MB 3.8 MB/s eta 0:00:01\n",
      "     --------------------------------- ------ 10.7/12.8 MB 3.7 MB/s eta 0:00:01\n",
      "     ---------------------------------- ----- 10.9/12.8 MB 3.7 MB/s eta 0:00:01\n",
      "     ---------------------------------- ----- 11.1/12.8 MB 3.7 MB/s eta 0:00:01\n",
      "     ----------------------------------- ---- 11.3/12.8 MB 3.7 MB/s eta 0:00:01\n",
      "     ----------------------------------- ---- 11.5/12.8 MB 3.8 MB/s eta 0:00:01\n",
      "     ------------------------------------ --- 11.6/12.8 MB 3.9 MB/s eta 0:00:01\n",
      "     ------------------------------------- -- 11.8/12.8 MB 3.8 MB/s eta 0:00:01\n",
      "     ------------------------------------- -- 12.0/12.8 MB 3.8 MB/s eta 0:00:01\n",
      "     -------------------------------------- - 12.2/12.8 MB 3.8 MB/s eta 0:00:01\n",
      "     -------------------------------------- - 12.4/12.8 MB 3.8 MB/s eta 0:00:01\n",
      "     ---------------------------------------  12.6/12.8 MB 3.8 MB/s eta 0:00:01\n",
      "     ---------------------------------------  12.8/12.8 MB 3.8 MB/s eta 0:00:01\n",
      "     ---------------------------------------  12.8/12.8 MB 3.8 MB/s eta 0:00:01\n",
      "     ---------------------------------------- 12.8/12.8 MB 3.7 MB/s eta 0:00:00\n",
      "Requirement already satisfied: spacy<3.8.0,>=3.7.2 in c:\\users\\sai viswa\\anaconda3\\lib\\site-packages (from en-core-web-sm==3.7.1) (3.7.4)\n",
      "Requirement already satisfied: spacy-legacy<3.1.0,>=3.0.11 in c:\\users\\sai viswa\\anaconda3\\lib\\site-packages (from spacy<3.8.0,>=3.7.2->en-core-web-sm==3.7.1) (3.0.12)\n",
      "Requirement already satisfied: spacy-loggers<2.0.0,>=1.0.0 in c:\\users\\sai viswa\\anaconda3\\lib\\site-packages (from spacy<3.8.0,>=3.7.2->en-core-web-sm==3.7.1) (1.0.5)\n",
      "Requirement already satisfied: murmurhash<1.1.0,>=0.28.0 in c:\\users\\sai viswa\\anaconda3\\lib\\site-packages (from spacy<3.8.0,>=3.7.2->en-core-web-sm==3.7.1) (1.0.10)\n",
      "Requirement already satisfied: cymem<2.1.0,>=2.0.2 in c:\\users\\sai viswa\\anaconda3\\lib\\site-packages (from spacy<3.8.0,>=3.7.2->en-core-web-sm==3.7.1) (2.0.8)\n",
      "Requirement already satisfied: preshed<3.1.0,>=3.0.2 in c:\\users\\sai viswa\\anaconda3\\lib\\site-packages (from spacy<3.8.0,>=3.7.2->en-core-web-sm==3.7.1) (3.0.9)\n",
      "Requirement already satisfied: thinc<8.3.0,>=8.2.2 in c:\\users\\sai viswa\\anaconda3\\lib\\site-packages (from spacy<3.8.0,>=3.7.2->en-core-web-sm==3.7.1) (8.2.3)\n",
      "Requirement already satisfied: wasabi<1.2.0,>=0.9.1 in c:\\users\\sai viswa\\anaconda3\\lib\\site-packages (from spacy<3.8.0,>=3.7.2->en-core-web-sm==3.7.1) (1.1.2)\n",
      "Requirement already satisfied: srsly<3.0.0,>=2.4.3 in c:\\users\\sai viswa\\anaconda3\\lib\\site-packages (from spacy<3.8.0,>=3.7.2->en-core-web-sm==3.7.1) (2.4.8)\n",
      "Requirement already satisfied: catalogue<2.1.0,>=2.0.6 in c:\\users\\sai viswa\\anaconda3\\lib\\site-packages (from spacy<3.8.0,>=3.7.2->en-core-web-sm==3.7.1) (2.0.10)\n",
      "Requirement already satisfied: weasel<0.4.0,>=0.1.0 in c:\\users\\sai viswa\\anaconda3\\lib\\site-packages (from spacy<3.8.0,>=3.7.2->en-core-web-sm==3.7.1) (0.3.4)\n",
      "Requirement already satisfied: typer<0.10.0,>=0.3.0 in c:\\users\\sai viswa\\anaconda3\\lib\\site-packages (from spacy<3.8.0,>=3.7.2->en-core-web-sm==3.7.1) (0.9.4)\n",
      "Requirement already satisfied: smart-open<7.0.0,>=5.2.1 in c:\\users\\sai viswa\\anaconda3\\lib\\site-packages (from spacy<3.8.0,>=3.7.2->en-core-web-sm==3.7.1) (5.2.1)\n",
      "Requirement already satisfied: tqdm<5.0.0,>=4.38.0 in c:\\users\\sai viswa\\anaconda3\\lib\\site-packages (from spacy<3.8.0,>=3.7.2->en-core-web-sm==3.7.1) (4.65.0)\n",
      "Requirement already satisfied: requests<3.0.0,>=2.13.0 in c:\\users\\sai viswa\\anaconda3\\lib\\site-packages (from spacy<3.8.0,>=3.7.2->en-core-web-sm==3.7.1) (2.31.0)\n",
      "Requirement already satisfied: pydantic!=1.8,!=1.8.1,<3.0.0,>=1.7.4 in c:\\users\\sai viswa\\anaconda3\\lib\\site-packages (from spacy<3.8.0,>=3.7.2->en-core-web-sm==3.7.1) (1.10.12)\n",
      "Requirement already satisfied: jinja2 in c:\\users\\sai viswa\\anaconda3\\lib\\site-packages (from spacy<3.8.0,>=3.7.2->en-core-web-sm==3.7.1) (3.1.3)\n",
      "Requirement already satisfied: setuptools in c:\\users\\sai viswa\\anaconda3\\lib\\site-packages (from spacy<3.8.0,>=3.7.2->en-core-web-sm==3.7.1) (68.2.2)\n",
      "Requirement already satisfied: packaging>=20.0 in c:\\users\\sai viswa\\anaconda3\\lib\\site-packages (from spacy<3.8.0,>=3.7.2->en-core-web-sm==3.7.1) (23.1)\n",
      "Requirement already satisfied: langcodes<4.0.0,>=3.2.0 in c:\\users\\sai viswa\\anaconda3\\lib\\site-packages (from spacy<3.8.0,>=3.7.2->en-core-web-sm==3.7.1) (3.4.0)\n",
      "Requirement already satisfied: numpy>=1.19.0 in c:\\users\\sai viswa\\anaconda3\\lib\\site-packages (from spacy<3.8.0,>=3.7.2->en-core-web-sm==3.7.1) (1.26.4)\n",
      "Requirement already satisfied: language-data>=1.2 in c:\\users\\sai viswa\\anaconda3\\lib\\site-packages (from langcodes<4.0.0,>=3.2.0->spacy<3.8.0,>=3.7.2->en-core-web-sm==3.7.1) (1.2.0)\n",
      "Requirement already satisfied: typing-extensions>=4.2.0 in c:\\users\\sai viswa\\anaconda3\\lib\\site-packages (from pydantic!=1.8,!=1.8.1,<3.0.0,>=1.7.4->spacy<3.8.0,>=3.7.2->en-core-web-sm==3.7.1) (4.9.0)\n",
      "Requirement already satisfied: charset-normalizer<4,>=2 in c:\\users\\sai viswa\\anaconda3\\lib\\site-packages (from requests<3.0.0,>=2.13.0->spacy<3.8.0,>=3.7.2->en-core-web-sm==3.7.1) (2.0.4)\n",
      "Requirement already satisfied: idna<4,>=2.5 in c:\\users\\sai viswa\\anaconda3\\lib\\site-packages (from requests<3.0.0,>=2.13.0->spacy<3.8.0,>=3.7.2->en-core-web-sm==3.7.1) (3.4)\n",
      "Requirement already satisfied: urllib3<3,>=1.21.1 in c:\\users\\sai viswa\\anaconda3\\lib\\site-packages (from requests<3.0.0,>=2.13.0->spacy<3.8.0,>=3.7.2->en-core-web-sm==3.7.1) (2.0.7)\n",
      "Requirement already satisfied: certifi>=2017.4.17 in c:\\users\\sai viswa\\anaconda3\\lib\\site-packages (from requests<3.0.0,>=2.13.0->spacy<3.8.0,>=3.7.2->en-core-web-sm==3.7.1) (2024.2.2)\n",
      "Requirement already satisfied: blis<0.8.0,>=0.7.8 in c:\\users\\sai viswa\\anaconda3\\lib\\site-packages (from thinc<8.3.0,>=8.2.2->spacy<3.8.0,>=3.7.2->en-core-web-sm==3.7.1) (0.7.11)\n",
      "Requirement already satisfied: confection<1.0.0,>=0.0.1 in c:\\users\\sai viswa\\anaconda3\\lib\\site-packages (from thinc<8.3.0,>=8.2.2->spacy<3.8.0,>=3.7.2->en-core-web-sm==3.7.1) (0.1.4)\n",
      "Requirement already satisfied: colorama in c:\\users\\sai viswa\\anaconda3\\lib\\site-packages (from tqdm<5.0.0,>=4.38.0->spacy<3.8.0,>=3.7.2->en-core-web-sm==3.7.1) (0.4.6)\n",
      "Requirement already satisfied: click<9.0.0,>=7.1.1 in c:\\users\\sai viswa\\anaconda3\\lib\\site-packages (from typer<0.10.0,>=0.3.0->spacy<3.8.0,>=3.7.2->en-core-web-sm==3.7.1) (8.1.7)\n",
      "Requirement already satisfied: cloudpathlib<0.17.0,>=0.7.0 in c:\\users\\sai viswa\\anaconda3\\lib\\site-packages (from weasel<0.4.0,>=0.1.0->spacy<3.8.0,>=3.7.2->en-core-web-sm==3.7.1) (0.16.0)\n",
      "Requirement already satisfied: MarkupSafe>=2.0 in c:\\users\\sai viswa\\anaconda3\\lib\\site-packages (from jinja2->spacy<3.8.0,>=3.7.2->en-core-web-sm==3.7.1) (2.1.3)\n",
      "Requirement already satisfied: marisa-trie>=0.7.7 in c:\\users\\sai viswa\\anaconda3\\lib\\site-packages (from language-data>=1.2->langcodes<4.0.0,>=3.2.0->spacy<3.8.0,>=3.7.2->en-core-web-sm==3.7.1) (1.1.0)\n",
      "\u001b[38;5;2m[+] Download and installation successful\u001b[0m\n",
      "You can now load the package via spacy.load('en_core_web_sm')\n"
     ]
    }
   ],
   "source": [
    "!python -m spacy download en_core_web_sm"
   ]
  },
  {
   "cell_type": "code",
   "execution_count": 10,
   "id": "6569ffc8-7283-447c-800a-0ea38aef8e58",
   "metadata": {},
   "outputs": [
    {
     "data": {
      "text/plain": [
       "Amidst the whispers of the wind, a lone star twinkled in the velvet sky"
      ]
     },
     "execution_count": 10,
     "metadata": {},
     "output_type": "execute_result"
    }
   ],
   "source": [
    "import spacy\n",
    "nlp = spacy.load(\"en_core_web_sm\")\n",
    "doc=nlp(\"Amidst the whispers of the wind, a lone star twinkled in the velvet sky\")\n",
    "doc"
   ]
  },
  {
   "cell_type": "code",
   "execution_count": 11,
   "id": "d55edc77-f7e4-48e7-98e9-1ac69d2d3202",
   "metadata": {},
   "outputs": [
    {
     "name": "stdout",
     "output_type": "stream",
     "text": [
      "Amidst\n",
      "the\n",
      "whispers\n",
      "of\n",
      "the\n",
      "wind\n",
      ",\n",
      "a\n",
      "lone\n",
      "star\n",
      "twinkled\n",
      "in\n",
      "the\n",
      "velvet\n",
      "sky\n"
     ]
    }
   ],
   "source": [
    "for token in doc:\n",
    "    print(token.text)"
   ]
  },
  {
   "cell_type": "code",
   "execution_count": 13,
   "id": "f63db74e-fcee-437e-94e9-5b8e9d9319fc",
   "metadata": {},
   "outputs": [
    {
     "name": "stdout",
     "output_type": "stream",
     "text": [
      "amidst\n",
      "the\n",
      "whisper\n",
      "of\n",
      "the\n",
      "wind\n",
      ",\n",
      "a\n",
      "lone\n",
      "star\n",
      "twinkle\n",
      "in\n",
      "the\n",
      "velvet\n",
      "sky\n"
     ]
    }
   ],
   "source": [
    "for token in doc:\n",
    "    print(token.lemma_)"
   ]
  },
  {
   "cell_type": "code",
   "execution_count": 14,
   "id": "0de416e8-53a7-4878-aa94-2442a621342d",
   "metadata": {},
   "outputs": [
    {
     "name": "stdout",
     "output_type": "stream",
     "text": [
      "ADP\n",
      "DET\n",
      "NOUN\n",
      "ADP\n",
      "DET\n",
      "NOUN\n",
      "PUNCT\n",
      "DET\n",
      "ADJ\n",
      "NOUN\n",
      "VERB\n",
      "ADP\n",
      "DET\n",
      "NOUN\n",
      "NOUN\n"
     ]
    }
   ],
   "source": [
    "for token in doc:\n",
    "    print(token.pos_)"
   ]
  },
  {
   "cell_type": "code",
   "execution_count": 18,
   "id": "bebe2b14-2b00-41f1-93eb-eec5b06e5c1a",
   "metadata": {},
   "outputs": [
    {
     "name": "stdout",
     "output_type": "stream",
     "text": [
      "Amidst: ADP\n",
      "the: DET\n",
      "whispers: NOUN\n",
      "of: ADP\n",
      "the: DET\n",
      "wind: NOUN\n",
      ",: PUNCT\n",
      "a: DET\n",
      "lone: ADJ\n",
      "star: NOUN\n",
      "twinkled: VERB\n",
      "in: ADP\n",
      "the: DET\n",
      "velvet: NOUN\n",
      "sky: NOUN\n"
     ]
    }
   ],
   "source": [
    "for token in doc:\n",
    "    print(token.text+\":\",token.pos_)"
   ]
  },
  {
   "cell_type": "code",
   "execution_count": 19,
   "id": "79d31621-c30d-473f-b312-5589a5308981",
   "metadata": {},
   "outputs": [
    {
     "name": "stdout",
     "output_type": "stream",
     "text": [
      "Amidst--> amidst--> ADP\n",
      "the--> the--> DET\n",
      "whispers--> whisper--> NOUN\n",
      "of--> of--> ADP\n",
      "the--> the--> DET\n",
      "wind--> wind--> NOUN\n",
      ",--> ,--> PUNCT\n",
      "a--> a--> DET\n",
      "lone--> lone--> ADJ\n",
      "star--> star--> NOUN\n",
      "twinkled--> twinkle--> VERB\n",
      "in--> in--> ADP\n",
      "the--> the--> DET\n",
      "velvet--> velvet--> NOUN\n",
      "sky--> sky--> NOUN\n"
     ]
    }
   ],
   "source": [
    "for token in doc:\n",
    "    print(token.text+\"-->\", token.lemma_+\"-->\", token.pos_)"
   ]
  },
  {
   "cell_type": "code",
   "execution_count": 22,
   "id": "1aeb5f05-d535-4689-9c97-b8fdaf76585d",
   "metadata": {},
   "outputs": [
    {
     "name": "stdout",
     "output_type": "stream",
     "text": [
      "Amidst : amidst : ADP : prep : Xxxxx : True : False\n",
      "the : the : DET : det : xxx : True : True\n",
      "whispers : whisper : NOUN : pobj : xxxx : True : False\n",
      "of : of : ADP : prep : xx : True : True\n",
      "the : the : DET : det : xxx : True : True\n",
      "wind : wind : NOUN : pobj : xxxx : True : False\n",
      ", : , : PUNCT : punct : , : False : False\n",
      "a : a : DET : det : x : True : True\n",
      "lone : lone : ADJ : amod : xxxx : True : False\n",
      "star : star : NOUN : ROOT : xxxx : True : False\n",
      "twinkled : twinkle : VERB : acl : xxxx : True : False\n",
      "in : in : ADP : prep : xx : True : True\n",
      "the : the : DET : det : xxx : True : True\n",
      "velvet : velvet : NOUN : compound : xxxx : True : False\n",
      "sky : sky : NOUN : pobj : xxx : True : False\n"
     ]
    }
   ],
   "source": [
    "for token in doc:\n",
    "    print(token.text,\":\", token.lemma_,\":\", token.pos_,\":\", token.dep_,\":\",\n",
    "          token.shape_,\":\", token.is_alpha,\":\", token.is_stop)"
   ]
  },
  {
   "cell_type": "code",
   "execution_count": 33,
   "id": "ba7fb4df-5111-4279-b540-68823abd400b",
   "metadata": {},
   "outputs": [],
   "source": [
    "text='''In a world where clouds are made of cotton candy and rivers flow with liquid gold, there exists a secret garden hidden deep within the\n",
    "enchanted forest. Here, flowers bloom in every color imaginable, their petals shimmering with the whispers of ancient spells. The trees are not mere trees but guardians\n",
    "of time, their branches reaching towards the stars to pluck stories from the night sky. Creatures of myth and legend roam freely, from mischievous fairies \n",
    "weaving dreams to majestic unicorns with coats as soft as moonlight. And in the heart of this magical realm lies a forgotten library, \n",
    "its shelves lined with books that hold the keys to unlocking the mysteries of the universe.'''"
   ]
  },
  {
   "cell_type": "code",
   "execution_count": 34,
   "id": "b726cc4a-03f9-435c-aa9a-bde178f6349d",
   "metadata": {},
   "outputs": [
    {
     "data": {
      "text/plain": [
       "'In a world where clouds are made of cotton candy and rivers flow with liquid gold, there exists a secret garden hidden deep within the\\nenchanted forest. Here, flowers bloom in every color imaginable, their petals shimmering with the whispers of ancient spells. The trees are not mere trees but guardians\\nof time, their branches reaching towards the stars to pluck stories from the night sky. Creatures of myth and legend roam freely, from mischievous fairies \\nweaving dreams to majestic unicorns with coats as soft as moonlight. And in the heart of this magical realm lies a forgotten library, \\nits shelves lined with books that hold the keys to unlocking the mysteries of the universe.'"
      ]
     },
     "execution_count": 34,
     "metadata": {},
     "output_type": "execute_result"
    }
   ],
   "source": [
    "\n",
    "text"
   ]
  },
  {
   "cell_type": "code",
   "execution_count": 36,
   "id": "37c1ff47-099e-4747-81af-6c146d3e4eb1",
   "metadata": {},
   "outputs": [],
   "source": [
    "import spacy\n",
    "from spacy.lang.en.stop_words import STOP_WORDS\n",
    "from string import punctuation"
   ]
  },
  {
   "cell_type": "code",
   "execution_count": 37,
   "id": "d2a8906f-9074-4166-8c93-c295af99dfc0",
   "metadata": {},
   "outputs": [
    {
     "data": {
      "text/plain": [
       "['ten',\n",
       " 'should',\n",
       " 'among',\n",
       " 'whither',\n",
       " 'just',\n",
       " 'no',\n",
       " 'and',\n",
       " 'hers',\n",
       " 'somehow',\n",
       " 're',\n",
       " 'be',\n",
       " 'please',\n",
       " 'such',\n",
       " 'last',\n",
       " 'over',\n",
       " 'few',\n",
       " 'n‘t',\n",
       " 'seems',\n",
       " 'becomes',\n",
       " 'anyone',\n",
       " 'throughout',\n",
       " '’s',\n",
       " 'call',\n",
       " 'sometime',\n",
       " 'front',\n",
       " 'amount',\n",
       " '‘ll',\n",
       " '’ve',\n",
       " 'already',\n",
       " 'otherwise',\n",
       " 'elsewhere',\n",
       " '’d',\n",
       " 'others',\n",
       " 'per',\n",
       " 'them',\n",
       " 'thence',\n",
       " 'again',\n",
       " 'serious',\n",
       " 'give',\n",
       " 'neither',\n",
       " 'about',\n",
       " 'but',\n",
       " '‘m',\n",
       " 'been',\n",
       " 'if',\n",
       " 'in',\n",
       " 'still',\n",
       " 'these',\n",
       " 'i',\n",
       " 'enough',\n",
       " 'none',\n",
       " 'go',\n",
       " 'full',\n",
       " 'until',\n",
       " 'thus',\n",
       " \"'d\",\n",
       " 'all',\n",
       " 'four',\n",
       " 'fifty',\n",
       " 'ever',\n",
       " 'eight',\n",
       " 'to',\n",
       " 'behind',\n",
       " 'sixty',\n",
       " 'toward',\n",
       " 'someone',\n",
       " 'seem',\n",
       " 'ca',\n",
       " 'mostly',\n",
       " 'made',\n",
       " 'doing',\n",
       " 'side',\n",
       " 'there',\n",
       " 'using',\n",
       " 'an',\n",
       " \"'s\",\n",
       " 'however',\n",
       " 'across',\n",
       " 'somewhere',\n",
       " 'below',\n",
       " 'whence',\n",
       " 'ours',\n",
       " 'nor',\n",
       " 'whoever',\n",
       " 'due',\n",
       " 'everyone',\n",
       " 'fifteen',\n",
       " 'had',\n",
       " 'many',\n",
       " 'they',\n",
       " 'you',\n",
       " 'whenever',\n",
       " 'also',\n",
       " 'really',\n",
       " 'first',\n",
       " 'anyway',\n",
       " 'between',\n",
       " 'never',\n",
       " 'other',\n",
       " 'afterwards',\n",
       " 'one',\n",
       " 'both',\n",
       " 'does',\n",
       " 'nine',\n",
       " 'mine',\n",
       " 'quite',\n",
       " 'wherever',\n",
       " 'that',\n",
       " 'the',\n",
       " 'bottom',\n",
       " 'under',\n",
       " 'us',\n",
       " 'it',\n",
       " 'yourself',\n",
       " 'herself',\n",
       " 'least',\n",
       " \"'re\",\n",
       " 'whereafter',\n",
       " 'ourselves',\n",
       " 'anywhere',\n",
       " 'from',\n",
       " 'name',\n",
       " 'his',\n",
       " 'often',\n",
       " 'against',\n",
       " 'my',\n",
       " 'those',\n",
       " 'not',\n",
       " 'upon',\n",
       " 'besides',\n",
       " 'twelve',\n",
       " 'within',\n",
       " 'via',\n",
       " 'whom',\n",
       " 'either',\n",
       " 'further',\n",
       " '‘s',\n",
       " 'for',\n",
       " 'at',\n",
       " 'see',\n",
       " 'twenty',\n",
       " 'some',\n",
       " 'how',\n",
       " 'anyhow',\n",
       " 'more',\n",
       " 'her',\n",
       " 'say',\n",
       " 'themselves',\n",
       " 'became',\n",
       " 'part',\n",
       " 'him',\n",
       " 'almost',\n",
       " 'beforehand',\n",
       " 'above',\n",
       " 'could',\n",
       " 'so',\n",
       " 'back',\n",
       " 'with',\n",
       " 'alone',\n",
       " 'then',\n",
       " 'was',\n",
       " 'our',\n",
       " 'forty',\n",
       " 'latterly',\n",
       " 'take',\n",
       " 'regarding',\n",
       " 'seeming',\n",
       " 'everywhere',\n",
       " 'everything',\n",
       " \"'ve\",\n",
       " 'your',\n",
       " 'yours',\n",
       " 'hereupon',\n",
       " 'on',\n",
       " 'now',\n",
       " 'thereafter',\n",
       " '’m',\n",
       " 'always',\n",
       " 'noone',\n",
       " 'nowhere',\n",
       " '’ll',\n",
       " 'less',\n",
       " 'during',\n",
       " 'out',\n",
       " 'onto',\n",
       " 'perhaps',\n",
       " 'which',\n",
       " '‘ve',\n",
       " 'before',\n",
       " 'as',\n",
       " 'a',\n",
       " 'although',\n",
       " 'of',\n",
       " 'myself',\n",
       " 'its',\n",
       " 'anything',\n",
       " 'yet',\n",
       " 'after',\n",
       " 'where',\n",
       " 'along',\n",
       " 'can',\n",
       " 'himself',\n",
       " 'because',\n",
       " 'their',\n",
       " 'we',\n",
       " 'own',\n",
       " 'therein',\n",
       " 'every',\n",
       " 'third',\n",
       " 'once',\n",
       " \"'ll\",\n",
       " '‘re',\n",
       " 'might',\n",
       " 'thru',\n",
       " 'around',\n",
       " 'keep',\n",
       " 'are',\n",
       " 'would',\n",
       " 'whereupon',\n",
       " 'is',\n",
       " 'latter',\n",
       " 'did',\n",
       " 'towards',\n",
       " 'formerly',\n",
       " 'except',\n",
       " 'she',\n",
       " 'three',\n",
       " 'do',\n",
       " 'each',\n",
       " 'hereby',\n",
       " 'whereas',\n",
       " 'rather',\n",
       " 'well',\n",
       " 'else',\n",
       " 'me',\n",
       " 'here',\n",
       " 'while',\n",
       " 'whereby',\n",
       " 'must',\n",
       " 'off',\n",
       " 'this',\n",
       " 'when',\n",
       " 'too',\n",
       " 'may',\n",
       " 'any',\n",
       " 'through',\n",
       " 'various',\n",
       " 'beside',\n",
       " 'get',\n",
       " 'whole',\n",
       " 'herein',\n",
       " 'show',\n",
       " 'whose',\n",
       " 'empty',\n",
       " 'whatever',\n",
       " 'wherein',\n",
       " 'moreover',\n",
       " \"n't\",\n",
       " 'whether',\n",
       " 'together',\n",
       " 'has',\n",
       " 'top',\n",
       " 'become',\n",
       " 'seemed',\n",
       " 'am',\n",
       " 'five',\n",
       " 'since',\n",
       " 'becoming',\n",
       " 'have',\n",
       " 'were',\n",
       " 'thereupon',\n",
       " 'without',\n",
       " '‘d',\n",
       " 'same',\n",
       " 'by',\n",
       " 'even',\n",
       " 'two',\n",
       " \"'m\",\n",
       " 'six',\n",
       " 'who',\n",
       " 'indeed',\n",
       " 'most',\n",
       " 'up',\n",
       " 'into',\n",
       " 'why',\n",
       " 'will',\n",
       " 'eleven',\n",
       " 'make',\n",
       " 'meanwhile',\n",
       " 'hundred',\n",
       " 'next',\n",
       " 'move',\n",
       " 'beyond',\n",
       " 'several',\n",
       " 'hereafter',\n",
       " 'very',\n",
       " 'former',\n",
       " 'cannot',\n",
       " 'itself',\n",
       " 'he',\n",
       " 'nobody',\n",
       " 'amongst',\n",
       " 'yourselves',\n",
       " 'n’t',\n",
       " 'what',\n",
       " 'thereby',\n",
       " 'though',\n",
       " 'used',\n",
       " 'nevertheless',\n",
       " 'than',\n",
       " 'or',\n",
       " 'unless',\n",
       " 'therefore',\n",
       " 'another',\n",
       " 'put',\n",
       " 'nothing',\n",
       " 'done',\n",
       " 'something',\n",
       " 'much',\n",
       " 'hence',\n",
       " 'namely',\n",
       " 'only',\n",
       " 'down',\n",
       " 'being',\n",
       " 'sometimes',\n",
       " '’re']"
      ]
     },
     "execution_count": 37,
     "metadata": {},
     "output_type": "execute_result"
    }
   ],
   "source": [
    "stopwords = list(STOP_WORDS) \n",
    "stopwords"
   ]
  },
  {
   "cell_type": "code",
   "execution_count": 38,
   "id": "6a9216a7-895f-4600-baa6-24e14f577894",
   "metadata": {},
   "outputs": [
    {
     "data": {
      "text/plain": [
       "326"
      ]
     },
     "execution_count": 38,
     "metadata": {},
     "output_type": "execute_result"
    }
   ],
   "source": [
    "len(stopwords)"
   ]
  },
  {
   "cell_type": "code",
   "execution_count": 39,
   "id": "a088e786-6ea5-447c-9b5c-a9a44b8195e3",
   "metadata": {},
   "outputs": [
    {
     "data": {
      "text/plain": [
       "'In a world where clouds are made of cotton candy and rivers flow with liquid gold, there exists a secret garden hidden deep within the\\nenchanted forest. Here, flowers bloom in every color imaginable, their petals shimmering with the whispers of ancient spells. The trees are not mere trees but guardians\\nof time, their branches reaching towards the stars to pluck stories from the night sky. Creatures of myth and legend roam freely, from mischievous fairies \\nweaving dreams to majestic unicorns with coats as soft as moonlight. And in the heart of this magical realm lies a forgotten library, \\nits shelves lined with books that hold the keys to unlocking the mysteries of the universe.'"
      ]
     },
     "execution_count": 39,
     "metadata": {},
     "output_type": "execute_result"
    }
   ],
   "source": [
    "text"
   ]
  },
  {
   "cell_type": "code",
   "execution_count": 40,
   "id": "14ba0ddb-5bcb-4d81-9b69-c6ea59cdc3d0",
   "metadata": {},
   "outputs": [
    {
     "data": {
      "text/plain": [
       "In a world where clouds are made of cotton candy and rivers flow with liquid gold, there exists a secret garden hidden deep within the\n",
       "enchanted forest. Here, flowers bloom in every color imaginable, their petals shimmering with the whispers of ancient spells. The trees are not mere trees but guardians\n",
       "of time, their branches reaching towards the stars to pluck stories from the night sky. Creatures of myth and legend roam freely, from mischievous fairies \n",
       "weaving dreams to majestic unicorns with coats as soft as moonlight. And in the heart of this magical realm lies a forgotten library, \n",
       "its shelves lined with books that hold the keys to unlocking the mysteries of the universe."
      ]
     },
     "execution_count": 40,
     "metadata": {},
     "output_type": "execute_result"
    }
   ],
   "source": [
    "doc=nlp(text)\n",
    "doc"
   ]
  },
  {
   "cell_type": "code",
   "execution_count": 44,
   "id": "2da5608a-02cb-4303-9315-ebbf94839c4b",
   "metadata": {},
   "outputs": [
    {
     "name": "stdout",
     "output_type": "stream",
     "text": [
      "['In', 'a', 'world', 'where', 'clouds', 'are', 'made', 'of', 'cotton', 'candy', 'and', 'rivers', 'flow', 'with', 'liquid', 'gold', ',', 'there', 'exists', 'a', 'secret', 'garden', 'hidden', 'deep', 'within', 'the', '\\n', 'enchanted', 'forest', '.', 'Here', ',', 'flowers', 'bloom', 'in', 'every', 'color', 'imaginable', ',', 'their', 'petals', 'shimmering', 'with', 'the', 'whispers', 'of', 'ancient', 'spells', '.', 'The', 'trees', 'are', 'not', 'mere', 'trees', 'but', 'guardians', '\\n', 'of', 'time', ',', 'their', 'branches', 'reaching', 'towards', 'the', 'stars', 'to', 'pluck', 'stories', 'from', 'the', 'night', 'sky', '.', 'Creatures', 'of', 'myth', 'and', 'legend', 'roam', 'freely', ',', 'from', 'mischievous', 'fairies', '\\n', 'weaving', 'dreams', 'to', 'majestic', 'unicorns', 'with', 'coats', 'as', 'soft', 'as', 'moonlight', '.', 'And', 'in', 'the', 'heart', 'of', 'this', 'magical', 'realm', 'lies', 'a', 'forgotten', 'library', ',', '\\n', 'its', 'shelves', 'lined', 'with', 'books', 'that', 'hold', 'the', 'keys', 'to', 'unlocking', 'the', 'mysteries', 'of', 'the', 'universe', '.']\n"
     ]
    }
   ],
   "source": [
    "tokens = [token.text for token in doc]\n",
    "print(tokens) "
   ]
  },
  {
   "cell_type": "code",
   "execution_count": 45,
   "id": "23626e07-894b-4198-8386-afa64afab175",
   "metadata": {},
   "outputs": [
    {
     "data": {
      "text/plain": [
       "['In',\n",
       " 'a',\n",
       " 'world',\n",
       " 'where',\n",
       " 'clouds',\n",
       " 'are',\n",
       " 'made',\n",
       " 'of',\n",
       " 'cotton',\n",
       " 'candy',\n",
       " 'and',\n",
       " 'rivers',\n",
       " 'flow',\n",
       " 'with',\n",
       " 'liquid',\n",
       " 'gold',\n",
       " ',',\n",
       " 'there',\n",
       " 'exists',\n",
       " 'a',\n",
       " 'secret',\n",
       " 'garden',\n",
       " 'hidden',\n",
       " 'deep',\n",
       " 'within',\n",
       " 'the',\n",
       " '\\n',\n",
       " 'enchanted',\n",
       " 'forest',\n",
       " '.',\n",
       " 'Here',\n",
       " ',',\n",
       " 'flowers',\n",
       " 'bloom',\n",
       " 'in',\n",
       " 'every',\n",
       " 'color',\n",
       " 'imaginable',\n",
       " ',',\n",
       " 'their',\n",
       " 'petals',\n",
       " 'shimmering',\n",
       " 'with',\n",
       " 'the',\n",
       " 'whispers',\n",
       " 'of',\n",
       " 'ancient',\n",
       " 'spells',\n",
       " '.',\n",
       " 'The',\n",
       " 'trees',\n",
       " 'are',\n",
       " 'not',\n",
       " 'mere',\n",
       " 'trees',\n",
       " 'but',\n",
       " 'guardians',\n",
       " '\\n',\n",
       " 'of',\n",
       " 'time',\n",
       " ',',\n",
       " 'their',\n",
       " 'branches',\n",
       " 'reaching',\n",
       " 'towards',\n",
       " 'the',\n",
       " 'stars',\n",
       " 'to',\n",
       " 'pluck',\n",
       " 'stories',\n",
       " 'from',\n",
       " 'the',\n",
       " 'night',\n",
       " 'sky',\n",
       " '.',\n",
       " 'Creatures',\n",
       " 'of',\n",
       " 'myth',\n",
       " 'and',\n",
       " 'legend',\n",
       " 'roam',\n",
       " 'freely',\n",
       " ',',\n",
       " 'from',\n",
       " 'mischievous',\n",
       " 'fairies',\n",
       " '\\n',\n",
       " 'weaving',\n",
       " 'dreams',\n",
       " 'to',\n",
       " 'majestic',\n",
       " 'unicorns',\n",
       " 'with',\n",
       " 'coats',\n",
       " 'as',\n",
       " 'soft',\n",
       " 'as',\n",
       " 'moonlight',\n",
       " '.',\n",
       " 'And',\n",
       " 'in',\n",
       " 'the',\n",
       " 'heart',\n",
       " 'of',\n",
       " 'this',\n",
       " 'magical',\n",
       " 'realm',\n",
       " 'lies',\n",
       " 'a',\n",
       " 'forgotten',\n",
       " 'library',\n",
       " ',',\n",
       " '\\n',\n",
       " 'its',\n",
       " 'shelves',\n",
       " 'lined',\n",
       " 'with',\n",
       " 'books',\n",
       " 'that',\n",
       " 'hold',\n",
       " 'the',\n",
       " 'keys',\n",
       " 'to',\n",
       " 'unlocking',\n",
       " 'the',\n",
       " 'mysteries',\n",
       " 'of',\n",
       " 'the',\n",
       " 'universe',\n",
       " '.']"
      ]
     },
     "execution_count": 45,
     "metadata": {},
     "output_type": "execute_result"
    }
   ],
   "source": [
    "tokens"
   ]
  },
  {
   "cell_type": "code",
   "execution_count": 46,
   "id": "4c46cb56-d411-47ea-b824-0dd03a7c8ae7",
   "metadata": {},
   "outputs": [
    {
     "data": {
      "text/plain": [
       "130"
      ]
     },
     "execution_count": 46,
     "metadata": {},
     "output_type": "execute_result"
    }
   ],
   "source": [
    "len(tokens)"
   ]
  },
  {
   "cell_type": "code",
   "execution_count": 48,
   "id": "7a1be5a4-09b4-4aa8-863c-686a61020fb2",
   "metadata": {},
   "outputs": [
    {
     "data": {
      "text/plain": [
       "'!\"#$%&\\'()*+,-./:;<=>?@[\\\\]^_`{|}~'"
      ]
     },
     "execution_count": 48,
     "metadata": {},
     "output_type": "execute_result"
    }
   ],
   "source": [
    "punctuation"
   ]
  },
  {
   "cell_type": "code",
   "execution_count": 52,
   "id": "20557171-0fa4-4935-90c3-cdf66ccf3141",
   "metadata": {},
   "outputs": [],
   "source": [
    "wf={}\n",
    "for word in doc:\n",
    "    if word.is_alpha and not word.is_stop:\n",
    "        wf[word.text]=wf.get(word.text,0)+1"
   ]
  },
  {
   "cell_type": "code",
   "execution_count": 53,
   "id": "de15580a-7d22-4d1f-91e9-4e87b3f71f10",
   "metadata": {},
   "outputs": [
    {
     "data": {
      "text/plain": [
       "{'world': 1,\n",
       " 'clouds': 1,\n",
       " 'cotton': 1,\n",
       " 'candy': 1,\n",
       " 'rivers': 1,\n",
       " 'flow': 1,\n",
       " 'liquid': 1,\n",
       " 'gold': 1,\n",
       " 'exists': 1,\n",
       " 'secret': 1,\n",
       " 'garden': 1,\n",
       " 'hidden': 1,\n",
       " 'deep': 1,\n",
       " 'enchanted': 1,\n",
       " 'forest': 1,\n",
       " 'flowers': 1,\n",
       " 'bloom': 1,\n",
       " 'color': 1,\n",
       " 'imaginable': 1,\n",
       " 'petals': 1,\n",
       " 'shimmering': 1,\n",
       " 'whispers': 1,\n",
       " 'ancient': 1,\n",
       " 'spells': 1,\n",
       " 'trees': 2,\n",
       " 'mere': 1,\n",
       " 'guardians': 1,\n",
       " 'time': 1,\n",
       " 'branches': 1,\n",
       " 'reaching': 1,\n",
       " 'stars': 1,\n",
       " 'pluck': 1,\n",
       " 'stories': 1,\n",
       " 'night': 1,\n",
       " 'sky': 1,\n",
       " 'Creatures': 1,\n",
       " 'myth': 1,\n",
       " 'legend': 1,\n",
       " 'roam': 1,\n",
       " 'freely': 1,\n",
       " 'mischievous': 1,\n",
       " 'fairies': 1,\n",
       " 'weaving': 1,\n",
       " 'dreams': 1,\n",
       " 'majestic': 1,\n",
       " 'unicorns': 1,\n",
       " 'coats': 1,\n",
       " 'soft': 1,\n",
       " 'moonlight': 1,\n",
       " 'heart': 1,\n",
       " 'magical': 1,\n",
       " 'realm': 1,\n",
       " 'lies': 1,\n",
       " 'forgotten': 1,\n",
       " 'library': 1,\n",
       " 'shelves': 1,\n",
       " 'lined': 1,\n",
       " 'books': 1,\n",
       " 'hold': 1,\n",
       " 'keys': 1,\n",
       " 'unlocking': 1,\n",
       " 'mysteries': 1,\n",
       " 'universe': 1}"
      ]
     },
     "execution_count": 53,
     "metadata": {},
     "output_type": "execute_result"
    }
   ],
   "source": [
    "wf"
   ]
  },
  {
   "cell_type": "code",
   "execution_count": 54,
   "id": "7c105306-2e96-4055-a82b-407e75200ca8",
   "metadata": {},
   "outputs": [
    {
     "data": {
      "text/plain": [
       "63"
      ]
     },
     "execution_count": 54,
     "metadata": {},
     "output_type": "execute_result"
    }
   ],
   "source": [
    "len(wf)"
   ]
  },
  {
   "cell_type": "code",
   "execution_count": 56,
   "id": "b14152b9-07b8-4bd8-97dc-719531d88d7c",
   "metadata": {},
   "outputs": [
    {
     "data": {
      "text/plain": [
       "2"
      ]
     },
     "execution_count": 56,
     "metadata": {},
     "output_type": "execute_result"
    }
   ],
   "source": [
    "mf=max(wf.values())\n",
    "mf"
   ]
  },
  {
   "cell_type": "code",
   "execution_count": 59,
   "id": "50c0a3d5-cfd7-47f9-b11d-7aea7b4b31c7",
   "metadata": {},
   "outputs": [
    {
     "data": {
      "text/plain": [
       "{'world': 0.125,\n",
       " 'clouds': 0.125,\n",
       " 'cotton': 0.125,\n",
       " 'candy': 0.125,\n",
       " 'rivers': 0.125,\n",
       " 'flow': 0.125,\n",
       " 'liquid': 0.125,\n",
       " 'gold': 0.125,\n",
       " 'exists': 0.125,\n",
       " 'secret': 0.125,\n",
       " 'garden': 0.125,\n",
       " 'hidden': 0.125,\n",
       " 'deep': 0.125,\n",
       " 'enchanted': 0.125,\n",
       " 'forest': 0.125,\n",
       " 'flowers': 0.125,\n",
       " 'bloom': 0.125,\n",
       " 'color': 0.125,\n",
       " 'imaginable': 0.125,\n",
       " 'petals': 0.125,\n",
       " 'shimmering': 0.125,\n",
       " 'whispers': 0.125,\n",
       " 'ancient': 0.125,\n",
       " 'spells': 0.125,\n",
       " 'trees': 0.25,\n",
       " 'mere': 0.125,\n",
       " 'guardians': 0.125,\n",
       " 'time': 0.125,\n",
       " 'branches': 0.125,\n",
       " 'reaching': 0.125,\n",
       " 'stars': 0.125,\n",
       " 'pluck': 0.125,\n",
       " 'stories': 0.125,\n",
       " 'night': 0.125,\n",
       " 'sky': 0.125,\n",
       " 'Creatures': 0.125,\n",
       " 'myth': 0.125,\n",
       " 'legend': 0.125,\n",
       " 'roam': 0.125,\n",
       " 'freely': 0.125,\n",
       " 'mischievous': 0.125,\n",
       " 'fairies': 0.125,\n",
       " 'weaving': 0.125,\n",
       " 'dreams': 0.125,\n",
       " 'majestic': 0.125,\n",
       " 'unicorns': 0.125,\n",
       " 'coats': 0.125,\n",
       " 'soft': 0.125,\n",
       " 'moonlight': 0.125,\n",
       " 'heart': 0.125,\n",
       " 'magical': 0.125,\n",
       " 'realm': 0.125,\n",
       " 'lies': 0.125,\n",
       " 'forgotten': 0.125,\n",
       " 'library': 0.125,\n",
       " 'shelves': 0.125,\n",
       " 'lined': 0.125,\n",
       " 'books': 0.125,\n",
       " 'hold': 0.125,\n",
       " 'keys': 0.125,\n",
       " 'unlocking': 0.125,\n",
       " 'mysteries': 0.125,\n",
       " 'universe': 0.125}"
      ]
     },
     "execution_count": 59,
     "metadata": {},
     "output_type": "execute_result"
    }
   ],
   "source": [
    "#to get normalized/weighted frequencies you should devide all frequencies with 2\n",
    "for word in wf.keys():\n",
    "    wf[word]=wf[word]/mf\n",
    "wf"
   ]
  },
  {
   "cell_type": "code",
   "execution_count": 60,
   "id": "47d648c9-683e-4379-b8a7-948004d0baca",
   "metadata": {},
   "outputs": [
    {
     "data": {
      "text/plain": [
       "[In a world where clouds are made of cotton candy and rivers flow with liquid gold, there exists a secret garden hidden deep within the\n",
       " enchanted forest.,\n",
       " Here, flowers bloom in every color imaginable, their petals shimmering with the whispers of ancient spells.,\n",
       " The trees are not mere trees but guardians\n",
       " of time, their branches reaching towards the stars to pluck stories from the night sky.,\n",
       " Creatures of myth and legend roam freely, from mischievous fairies \n",
       " weaving dreams to majestic unicorns with coats as soft as moonlight.,\n",
       " And in the heart of this magical realm lies a forgotten library, \n",
       " its shelves lined with books that hold the keys to unlocking the mysteries of the universe.]"
      ]
     },
     "execution_count": 60,
     "metadata": {},
     "output_type": "execute_result"
    }
   ],
   "source": [
    "st=[sent for sent in doc.sents]\n",
    "st"
   ]
  },
  {
   "cell_type": "code",
   "execution_count": 61,
   "id": "6645f0f4-e696-477b-8b56-a6955fc277c3",
   "metadata": {},
   "outputs": [
    {
     "data": {
      "text/plain": [
       "5"
      ]
     },
     "execution_count": 61,
     "metadata": {},
     "output_type": "execute_result"
    }
   ],
   "source": [
    "len(st)"
   ]
  },
  {
   "cell_type": "code",
   "execution_count": 62,
   "id": "d91da03b-65da-407a-ab30-6ea1c2414e43",
   "metadata": {},
   "outputs": [
    {
     "data": {
      "text/plain": [
       "[In a world where clouds are made of cotton candy and rivers flow with liquid gold, there exists a secret garden hidden deep within the\n",
       " enchanted forest.,\n",
       " Here, flowers bloom in every color imaginable, their petals shimmering with the whispers of ancient spells.,\n",
       " The trees are not mere trees but guardians\n",
       " of time, their branches reaching towards the stars to pluck stories from the night sky.,\n",
       " Creatures of myth and legend roam freely, from mischievous fairies \n",
       " weaving dreams to majestic unicorns with coats as soft as moonlight.,\n",
       " And in the heart of this magical realm lies a forgotten library, \n",
       " its shelves lined with books that hold the keys to unlocking the mysteries of the universe.]"
      ]
     },
     "execution_count": 62,
     "metadata": {},
     "output_type": "execute_result"
    }
   ],
   "source": [
    "st"
   ]
  },
  {
   "cell_type": "code",
   "execution_count": 65,
   "id": "62b18299-9e81-4f5d-b465-8f23bd05168f",
   "metadata": {},
   "outputs": [
    {
     "data": {
      "text/plain": [
       "{In a world where clouds are made of cotton candy and rivers flow with liquid gold, there exists a secret garden hidden deep within the\n",
       " enchanted forest.: 1.875,\n",
       " Here, flowers bloom in every color imaginable, their petals shimmering with the whispers of ancient spells.: 1.125,\n",
       " The trees are not mere trees but guardians\n",
       " of time, their branches reaching towards the stars to pluck stories from the night sky.: 1.75,\n",
       " Creatures of myth and legend roam freely, from mischievous fairies \n",
       " weaving dreams to majestic unicorns with coats as soft as moonlight.: 1.625,\n",
       " And in the heart of this magical realm lies a forgotten library, \n",
       " its shelves lined with books that hold the keys to unlocking the mysteries of the universe.: 1.75}"
      ]
     },
     "execution_count": 65,
     "metadata": {},
     "output_type": "execute_result"
    }
   ],
   "source": [
    "# we are going to calculate the sentence score, to calculate the sentence score \n",
    "sentence_scores = {}\n",
    "\n",
    "for sent in st:\n",
    "    for word in sent:\n",
    "        if word.text.lower() in wf.keys():\n",
    "            if sent not in sentence_scores.keys():\n",
    "                sentence_scores[sent] = wf[word.text.lower()]\n",
    "            else:\n",
    "                sentence_scores[sent] += wf[word.text.lower()]\n",
    "sentence_scores"
   ]
  },
  {
   "cell_type": "code",
   "execution_count": 66,
   "id": "3112d17f-188a-44e9-8805-d60d0aa5294a",
   "metadata": {},
   "outputs": [],
   "source": [
    "#lets say our case study was 30% sentence with maximum scores\n",
    "from heapq import nlargest "
   ]
  },
  {
   "cell_type": "code",
   "execution_count": 68,
   "id": "f2f8e43c-c112-4267-8597-501d0720afb4",
   "metadata": {},
   "outputs": [
    {
     "data": {
      "text/plain": [
       "2"
      ]
     },
     "execution_count": 68,
     "metadata": {},
     "output_type": "execute_result"
    }
   ],
   "source": [
    "select_length = int(len(st)*0.4)\n",
    "select_length"
   ]
  },
  {
   "cell_type": "code",
   "execution_count": 69,
   "id": "16f50c77-1e5a-4bff-ad00-6b149ab04b27",
   "metadata": {},
   "outputs": [],
   "source": [
    "#we have to select maximum 4 sentences out of all sentences \n",
    "summary = nlargest(select_length,sentence_scores, key = sentence_scores.get)"
   ]
  },
  {
   "cell_type": "code",
   "execution_count": 70,
   "id": "1488a7f6-8195-400c-8733-ac22c48c8b0c",
   "metadata": {},
   "outputs": [
    {
     "data": {
      "text/plain": [
       "[In a world where clouds are made of cotton candy and rivers flow with liquid gold, there exists a secret garden hidden deep within the\n",
       " enchanted forest.,\n",
       " The trees are not mere trees but guardians\n",
       " of time, their branches reaching towards the stars to pluck stories from the night sky.]"
      ]
     },
     "execution_count": 70,
     "metadata": {},
     "output_type": "execute_result"
    }
   ],
   "source": [
    "summary"
   ]
  },
  {
   "cell_type": "code",
   "execution_count": 71,
   "id": "18c09926-5292-48fc-a408-b210ca4f8be5",
   "metadata": {},
   "outputs": [
    {
     "data": {
      "text/plain": [
       "{In a world where clouds are made of cotton candy and rivers flow with liquid gold, there exists a secret garden hidden deep within the\n",
       " enchanted forest.: 1.875,\n",
       " Here, flowers bloom in every color imaginable, their petals shimmering with the whispers of ancient spells.: 1.125,\n",
       " The trees are not mere trees but guardians\n",
       " of time, their branches reaching towards the stars to pluck stories from the night sky.: 1.75,\n",
       " Creatures of myth and legend roam freely, from mischievous fairies \n",
       " weaving dreams to majestic unicorns with coats as soft as moonlight.: 1.625,\n",
       " And in the heart of this magical realm lies a forgotten library, \n",
       " its shelves lined with books that hold the keys to unlocking the mysteries of the universe.: 1.75}"
      ]
     },
     "execution_count": 71,
     "metadata": {},
     "output_type": "execute_result"
    }
   ],
   "source": [
    "sentence_scores"
   ]
  },
  {
   "cell_type": "code",
   "execution_count": 74,
   "id": "7c1ac76f-3e6f-4447-b40d-cf308b156f50",
   "metadata": {},
   "outputs": [
    {
     "data": {
      "text/plain": [
       "['In a world where clouds are made of cotton candy and rivers flow with liquid gold, there exists a secret garden hidden deep within the\\nenchanted forest.',\n",
       " 'The trees are not mere trees but guardians\\nof time, their branches reaching towards the stars to pluck stories from the night sky.']"
      ]
     },
     "execution_count": 74,
     "metadata": {},
     "output_type": "execute_result"
    }
   ],
   "source": [
    "# if i need to combine these top 2 sentencs then \n",
    "\n",
    "final_summary = [word.text for word in summary]\n",
    "final_summary"
   ]
  },
  {
   "cell_type": "code",
   "execution_count": 75,
   "id": "85313d72-3839-4bc2-b325-e2291e29f30f",
   "metadata": {},
   "outputs": [
    {
     "name": "stdout",
     "output_type": "stream",
     "text": [
      "[In a world where clouds are made of cotton candy and rivers flow with liquid gold, there exists a secret garden hidden deep within the\n",
      "enchanted forest., The trees are not mere trees but guardians\n",
      "of time, their branches reaching towards the stars to pluck stories from the night sky.]\n"
     ]
    }
   ],
   "source": [
    "print(summary)"
   ]
  }
 ],
 "metadata": {
  "kernelspec": {
   "display_name": "Python 3 (ipykernel)",
   "language": "python",
   "name": "python3"
  },
  "language_info": {
   "codemirror_mode": {
    "name": "ipython",
    "version": 3
   },
   "file_extension": ".py",
   "mimetype": "text/x-python",
   "name": "python",
   "nbconvert_exporter": "python",
   "pygments_lexer": "ipython3",
   "version": "3.11.7"
  }
 },
 "nbformat": 4,
 "nbformat_minor": 5
}
