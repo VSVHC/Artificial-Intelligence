{
 "cells": [
  {
   "cell_type": "code",
   "execution_count": 4,
   "id": "1ae3058a-708e-45e2-873f-270f36496164",
   "metadata": {},
   "outputs": [
    {
     "name": "stdout",
     "output_type": "stream",
     "text": [
      "Requirement already satisfied: opencv-python in c:\\users\\sai viswa\\anaconda3\\lib\\site-packages (4.9.0.80)Note: you may need to restart the kernel to use updated packages.\n",
      "\n",
      "Requirement already satisfied: numpy>=1.21.2 in c:\\users\\sai viswa\\anaconda3\\lib\\site-packages (from opencv-python) (1.26.4)\n"
     ]
    }
   ],
   "source": [
    "pip install opencv-python"
   ]
  },
  {
   "cell_type": "code",
   "execution_count": 33,
   "id": "5407fda0-522f-4d62-bde4-0dc1b8c46912",
   "metadata": {},
   "outputs": [],
   "source": [
    "import cv2"
   ]
  },
  {
   "cell_type": "markdown",
   "id": "256cb91b-1939-4c2a-8a14-bfe4d20851fd",
   "metadata": {},
   "source": [
    "* cv2.imread() --> The function is to load an image from the specified file and return it.\n",
    "* cv2.imshow() --> The function is to display an image in the specified window.\n",
    "* cv2.waitKey() --> The function is to wait untill to user press the 'esc' button.\n",
    "* cv2.destroyAllWindows() --> The function is to destroy all the windows.\n",
    "* cv2.imwrite() -->  The function is to specificing the file name and the image to be saved"
   ]
  },
  {
   "cell_type": "code",
   "execution_count": 34,
   "id": "12837b8c-f92c-47e7-8855-65be8c54245f",
   "metadata": {},
   "outputs": [],
   "source": [
    "input=cv2.imread(r'D:\\download.jpeg')\n",
    "cv2.imshow(\"Dodge\", input)\n",
    "cv2.waitKey()\n",
    "cv2.destroyAllWindows()"
   ]
  },
  {
   "cell_type": "code",
   "execution_count": 35,
   "id": "f515f7fb-b251-4bac-8ee5-0069e7cbfa9c",
   "metadata": {},
   "outputs": [],
   "source": [
    "import cv2\n",
    "input1=cv2.imread(r'D:\\fruits\\train\\apple\\Screen Shot 2018-06-08 at 5.00.35 PM.png')\n",
    "cv2.imshow(\"Apple\", input1)\n",
    "cv2.waitKey()\n",
    "cv2.destroyAllWindows()"
   ]
  },
  {
   "cell_type": "markdown",
   "id": "f518b487-cddb-4f76-af12-d2e4c18523ed",
   "metadata": {},
   "source": [
    "### Let's understand How images are stored"
   ]
  },
  {
   "cell_type": "code",
   "execution_count": 36,
   "id": "d5366ed2-2e96-452d-8a65-e54f711a2554",
   "metadata": {},
   "outputs": [],
   "source": [
    "import numpy as np"
   ]
  },
  {
   "cell_type": "markdown",
   "id": "d68dacdc-1aa9-4f3c-bba3-8a7e71187125",
   "metadata": {},
   "source": [
    "## Shape gives the dimensions of the Image array\n",
    "\n",
    "The 2D dimensions are 830 pixels in high bv 1245 pixels wide. The '3L' means that there are 3 other components (RGB) that make up this image."
   ]
  },
  {
   "cell_type": "code",
   "execution_count": 37,
   "id": "5cabe21b-bcf0-4757-a211-405148928500",
   "metadata": {},
   "outputs": [
    {
     "name": "stdout",
     "output_type": "stream",
     "text": [
      "Height of Image: 270 pixels\n",
      "Width of Image: 324 pixels\n"
     ]
    }
   ],
   "source": [
    "#Let's print each dimension of the image\n",
    "\n",
    "print('Height of Image:', int(input.shape[0]), \"pixels\")\n",
    "print('Width of Image:', int(input.shape[1]), \"pixels\")"
   ]
  },
  {
   "cell_type": "code",
   "execution_count": 38,
   "id": "e6479e39-fc9a-4d7f-9d2a-1ab7b62f03f9",
   "metadata": {},
   "outputs": [
    {
     "name": "stdout",
     "output_type": "stream",
     "text": [
      "Height of Image: 448 pixels\n",
      "Width of Image: 416 pixels\n"
     ]
    }
   ],
   "source": [
    "print('Height of Image:', int(input1.shape[0]), \"pixels\")\n",
    "print('Width of Image:', int(input1.shape[1]), \"pixels\")"
   ]
  },
  {
   "cell_type": "markdown",
   "id": "5612a0aa-dca8-4973-9727-c96d7ec54fc9",
   "metadata": {},
   "source": [
    "## How do we save image we edit in OpanCV?"
   ]
  },
  {
   "cell_type": "code",
   "execution_count": 43,
   "id": "5d9a1354-62df-46d5-92c4-66fadbf679f6",
   "metadata": {},
   "outputs": [
    {
     "data": {
      "text/plain": [
       "True"
      ]
     },
     "execution_count": 43,
     "metadata": {},
     "output_type": "execute_result"
    }
   ],
   "source": [
    "# Simply use \"imwrite' specificing the file name and the image to be saved\n",
    "cv2.imwrite('output.jpg', input)\n",
    "cv2.imwrite('output1.jpg', input1)"
   ]
  },
  {
   "cell_type": "code",
   "execution_count": 44,
   "id": "8998b1c9-0415-4f65-83c0-d73a28611ffd",
   "metadata": {},
   "outputs": [
    {
     "data": {
      "text/plain": [
       "'C:\\\\Users\\\\Sai Viswa\\\\Desktop\\\\Jupyter  Codes'"
      ]
     },
     "execution_count": 44,
     "metadata": {},
     "output_type": "execute_result"
    }
   ],
   "source": [
    "pwd"
   ]
  }
 ],
 "metadata": {
  "kernelspec": {
   "display_name": "Python 3 (ipykernel)",
   "language": "python",
   "name": "python3"
  },
  "language_info": {
   "codemirror_mode": {
    "name": "ipython",
    "version": 3
   },
   "file_extension": ".py",
   "mimetype": "text/x-python",
   "name": "python",
   "nbconvert_exporter": "python",
   "pygments_lexer": "ipython3",
   "version": "3.11.7"
  }
 },
 "nbformat": 4,
 "nbformat_minor": 5
}
